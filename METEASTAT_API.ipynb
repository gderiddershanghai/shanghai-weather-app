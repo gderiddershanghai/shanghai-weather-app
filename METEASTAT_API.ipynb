{
 "cells": [
  {
   "cell_type": "code",
   "execution_count": 28,
   "id": "b6a8e13a-a891-4719-b85d-94bba39e8fd3",
   "metadata": {},
   "outputs": [],
   "source": [
    "# Import Meteostat library and dependencies\n",
    "from datetime import datetime\n",
    "import matplotlib.pyplot as plt\n",
    "from meteostat import Point, Daily, Hourly\n",
    "import pandas as pd\n",
    "import json"
   ]
  },
  {
   "cell_type": "markdown",
   "id": "046865bf-c0b6-464e-a582-06f0e818c515",
   "metadata": {},
   "source": [
    "## Loading the hourly dataset"
   ]
  },
  {
   "cell_type": "code",
   "execution_count": 111,
   "id": "501c5047-fff8-43bd-99fc-638a0636f26e",
   "metadata": {},
   "outputs": [
    {
     "name": "stderr",
     "output_type": "stream",
     "text": [
      "Warning: Cannot load hourly/2014/58362.csv.gz from https://data.meteostat.net/\n",
      "Warning: Cannot load hourly/2015/58362.csv.gz from https://data.meteostat.net/\n",
      "Warning: Cannot load hourly/2016/58362.csv.gz from https://data.meteostat.net/\n",
      "Warning: Cannot load hourly/2017/58362.csv.gz from https://data.meteostat.net/\n"
     ]
    }
   ],
   "source": [
    "start = datetime(2014, 1, 1)\n",
    "end = datetime(2025, 9, 30)\n",
    "location = Point(31.4, 121.4667, 7)\n",
    "\n",
    "baoshan_hourly = Hourly(location, start, end)\n",
    "baoshan_hourly = baoshan_hourly.fetch()"
   ]
  },
  {
   "cell_type": "code",
   "execution_count": 115,
   "id": "ab2138f8-a31f-4d1e-b43e-10eaa68ffad2",
   "metadata": {},
   "outputs": [
    {
     "data": {
      "text/plain": [
       "(temp        62\n",
       " dwpt        62\n",
       " rhum        62\n",
       " prcp     74159\n",
       " snow    102940\n",
       " wdir      2032\n",
       " wspd       171\n",
       " wpgt    102810\n",
       " pres     14961\n",
       " tsun     99312\n",
       " coco     34320\n",
       " dtype: int64,\n",
       " (102940, 11))"
      ]
     },
     "execution_count": 115,
     "metadata": {},
     "output_type": "execute_result"
    }
   ],
   "source": [
    "baoshan_hourly.isna().sum(), baoshan_hourly.shape"
   ]
  },
  {
   "cell_type": "code",
   "execution_count": 121,
   "id": "dc098aa1-0345-459a-a6ea-d215c7008d70",
   "metadata": {},
   "outputs": [],
   "source": [
    "# {'latitude': 31.1667, 'longitude': 121.4333, 'elevation': 7},\n",
    "start = datetime(2014, 1, 1)\n",
    "end = datetime(2025, 9, 30)\n",
    "location = Point(31.1667, 121.4333, 7)\n",
    "# Get daily data for 2018\n",
    "xuhui_hourly = Hourly(location, start, end)\n",
    "xuhui_hourly = xuhui_hourly.fetch()"
   ]
  },
  {
   "cell_type": "code",
   "execution_count": 122,
   "id": "35b9d7cd-a6e6-4e3e-8806-75176e33bff9",
   "metadata": {},
   "outputs": [
    {
     "data": {
      "text/plain": [
       "(temp        62\n",
       " dwpt        62\n",
       " rhum        62\n",
       " prcp     74159\n",
       " snow    102940\n",
       " wdir      2032\n",
       " wspd       171\n",
       " wpgt    102810\n",
       " pres     14961\n",
       " tsun     99312\n",
       " coco     34320\n",
       " dtype: int64,\n",
       " (102940, 11))"
      ]
     },
     "execution_count": 122,
     "metadata": {},
     "output_type": "execute_result"
    }
   ],
   "source": [
    "xuhui_hourly.isna().sum(), xuhui_hourly.shape"
   ]
  },
  {
   "cell_type": "markdown",
   "id": "3e024fb3-1449-467d-8740-b4ec4a2dfa56",
   "metadata": {},
   "source": [
    "## Loading the daily datasets"
   ]
  },
  {
   "cell_type": "code",
   "execution_count": 117,
   "id": "151364a7-1aa5-4c1d-ae1a-0aae83b0ed6e",
   "metadata": {},
   "outputs": [],
   "source": [
    "# Set time period\n",
    "# 'latitude': 31.4, 'longitude': 121.4667,\n",
    "start = datetime(2014, 1, 1)\n",
    "end = datetime(2025, 9, 30)\n",
    "location = Point(31.4, 121.4667, 7)\n",
    "\n",
    "baoshan_daily = Daily(location, start, end)\n",
    "baoshan_daily = baoshan_daily.fetch()"
   ]
  },
  {
   "cell_type": "code",
   "execution_count": 119,
   "id": "da634e15-e809-4952-be9a-e4476fa315b1",
   "metadata": {},
   "outputs": [],
   "source": [
    "# {'latitude': 31.1667, 'longitude': 121.4333, 'elevation': 7},\n",
    "start = datetime(2014, 1, 1)\n",
    "end = datetime(2025, 9, 30)\n",
    "location = Point(31.1667, 121.4333, 7)\n",
    "# Get daily data for 2018\n",
    "xuhui_daily = Daily(location, start, end)\n",
    "xuhui_daily = xuhui_daily.fetch()"
   ]
  },
  {
   "cell_type": "code",
   "execution_count": 96,
   "id": "2c29fe37-1ff8-4e7f-9402-ca531df26e88",
   "metadata": {},
   "outputs": [
    {
     "name": "stdout",
     "output_type": "stream",
     "text": [
      "column name tavg, equal in dataset 1333\n",
      "column name tmin, equal in dataset 1475\n",
      "column name tmax, equal in dataset 1309\n",
      "column name prcp, equal in dataset 1616\n",
      "column name snow, equal in dataset 39\n",
      "column name wdir, equal in dataset 0\n",
      "column name wspd, equal in dataset 1653\n",
      "column name wpgt, equal in dataset 0\n",
      "column name pres, equal in dataset 1097\n",
      "column name tsun, equal in dataset 0\n"
     ]
    }
   ],
   "source": [
    "\n",
    "for col in shanghai_df.columns:\n",
    "    \n",
    "    print(f'column name {col}, equal in dataset', (shanghai_df[col] == hongqiao_df[col]).sum())"
   ]
  },
  {
   "cell_type": "code",
   "execution_count": 97,
   "id": "55fcb395-b54a-4e60-9768-9175f48ccf77",
   "metadata": {},
   "outputs": [
    {
     "data": {
      "text/plain": [
       "tavg       0\n",
       "tmin      27\n",
       "tmax      12\n",
       "prcp    2072\n",
       "snow    4231\n",
       "wdir    4270\n",
       "wspd      12\n",
       "wpgt    4270\n",
       "pres     648\n",
       "tsun    4270\n",
       "dtype: int64"
      ]
     },
     "execution_count": 97,
     "metadata": {},
     "output_type": "execute_result"
    }
   ],
   "source": [
    "hongqiao_df.isna().sum()"
   ]
  },
  {
   "cell_type": "code",
   "execution_count": 100,
   "id": "4d915b13-0517-475a-bed9-5771b6333917",
   "metadata": {},
   "outputs": [
    {
     "data": {
      "text/plain": [
       "Index(['tavg', 'tmin', 'tmax', 'prcp', 'snow', 'wdir', 'wspd', 'wpgt', 'pres',\n",
       "       'tsun'],\n",
       "      dtype='object')"
      ]
     },
     "execution_count": 100,
     "metadata": {},
     "output_type": "execute_result"
    }
   ],
   "source": [
    "hongqiao_df.columns"
   ]
  },
  {
   "cell_type": "code",
   "execution_count": 110,
   "id": "d51c9442-4d0b-40ab-9f2a-fa1a3b70a297",
   "metadata": {},
   "outputs": [
    {
     "data": {
      "text/plain": [
       "(['baoshan_tavg',\n",
       "  'baoshan_tmin',\n",
       "  'baoshan_tmax',\n",
       "  'baoshan_prcp',\n",
       "  'baoshan_wspd',\n",
       "  'baoshan_pres'],\n",
       " ['xuhui_tavg',\n",
       "  'xuhui_tmin',\n",
       "  'xuhui_tmax',\n",
       "  'xuhui_prcp',\n",
       "  'xuhui_wspd',\n",
       "  'xuhui_pres'])"
      ]
     },
     "execution_count": 110,
     "metadata": {},
     "output_type": "execute_result"
    }
   ],
   "source": [
    "baoshan_cols = [f'baoshan_{i}' for i in cols_to_keep]\n",
    "xuhui_cols = [f'xuhui_{i}' for i in cols_to_keep]\n",
    "baoshan_cols, xuhui_cols"
   ]
  },
  {
   "cell_type": "code",
   "execution_count": 98,
   "id": "fd7b2020-63bc-4154-bdfe-4404bb572441",
   "metadata": {},
   "outputs": [
    {
     "name": "stdout",
     "output_type": "stream",
     "text": [
      "'Shanghai AQI and Wheather 2014-2021.csv'   shanghai.csv\n",
      " lite.json\t\t\t\t    shanghai_aqi.csv\n",
      " shanghai-air-quality.csv\n"
     ]
    }
   ],
   "source": [
    "!ls src/data\n",
    "fp = 'src/data/Shanghai AQI and Wheather 2014-2021.csv'\n",
    "kaggle_df = pd.read_csv(fp)"
   ]
  },
  {
   "cell_type": "code",
   "execution_count": null,
   "id": "b8fdf15a-dcb8-4aa9-9a24-a70a12a73e58",
   "metadata": {},
   "outputs": [],
   "source": [
    "cols_to_keep"
   ]
  },
  {
   "cell_type": "code",
   "execution_count": 101,
   "id": "475b369c-0aae-4ee0-9fa5-8c9efd8b1abc",
   "metadata": {},
   "outputs": [],
   "source": [
    "cols_to_keep = ['time','tavg', 'tmin', 'tmax', 'prcp', 'wspd', 'pres']\n",
    "hongqiao_df = hongqiao_df.reset_index()[cols_to_keep]\n",
    "shanghai_df = shanghai_df.reset_index()[cols_to_keep]"
   ]
  },
  {
   "cell_type": "code",
   "execution_count": null,
   "id": "8571f3a3-44bf-4b05-a95e-4002425b2419",
   "metadata": {},
   "outputs": [],
   "source": [
    "hongqiao_df.columns = xuhui_cols\n",
    "shanghai_df.columns =  baoshan_cols"
   ]
  },
  {
   "cell_type": "code",
   "execution_count": 105,
   "id": "b30b53e5-b4a2-46af-92a5-ee59546a157c",
   "metadata": {},
   "outputs": [],
   "source": [
    "kaggle_df"
   ]
  },
  {
   "cell_type": "code",
   "execution_count": 79,
   "id": "fcbdd7cc-77be-4d00-8623-5eadd477e331",
   "metadata": {},
   "outputs": [
    {
     "data": {
      "text/plain": [
       "date     0\n",
       " pm25    0\n",
       " pm10    0\n",
       " o3      0\n",
       " no2     0\n",
       " so2     0\n",
       " co      0\n",
       "dtype: int64"
      ]
     },
     "execution_count": 79,
     "metadata": {},
     "output_type": "execute_result"
    }
   ],
   "source": [
    "# !ls src/data\n",
    "aqifp = 'src/data/shanghai_aqi.csv'\n",
    "aqi_df = pd.read_csv(aqifp)\n",
    "aqi_df.isna().sum()"
   ]
  },
  {
   "cell_type": "code",
   "execution_count": 93,
   "id": "8f605f88-afe9-482b-b5d8-6e12bd7255e4",
   "metadata": {},
   "outputs": [
    {
     "name": "stdout",
     "output_type": "stream",
     "text": [
      "<class 'pandas.core.frame.DataFrame'>\n",
      "RangeIndex: 4149 entries, 0 to 4148\n",
      "Data columns (total 7 columns):\n",
      " #   Column  Non-Null Count  Dtype \n",
      "---  ------  --------------  ----- \n",
      " 0   date    4149 non-null   object\n",
      " 1    pm25   4149 non-null   object\n",
      " 2    pm10   4149 non-null   object\n",
      " 3    o3     4149 non-null   object\n",
      " 4    no2    4149 non-null   object\n",
      " 5    so2    4149 non-null   object\n",
      " 6    co     4149 non-null   object\n",
      "dtypes: object(7)\n",
      "memory usage: 227.0+ KB\n"
     ]
    }
   ],
   "source": [
    "aqi_df.info()"
   ]
  }
 ],
 "metadata": {
  "kernelspec": {
   "display_name": "Python 3 (ipykernel)",
   "language": "python",
   "name": "python3"
  },
  "language_info": {
   "codemirror_mode": {
    "name": "ipython",
    "version": 3
   },
   "file_extension": ".py",
   "mimetype": "text/x-python",
   "name": "python",
   "nbconvert_exporter": "python",
   "pygments_lexer": "ipython3",
   "version": "3.10.6"
  }
 },
 "nbformat": 4,
 "nbformat_minor": 5
}
